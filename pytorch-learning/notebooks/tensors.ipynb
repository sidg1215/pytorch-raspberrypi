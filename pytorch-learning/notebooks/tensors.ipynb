{
 "cells": [
  {
   "cell_type": "markdown",
   "metadata": {},
   "source": [
    "# Tensors"
   ]
  },
  {
   "cell_type": "code",
   "execution_count": 67,
   "metadata": {},
   "outputs": [],
   "source": [
    "import torch\n",
    "import numpy as np"
   ]
  },
  {
   "cell_type": "code",
   "execution_count": 68,
   "metadata": {},
   "outputs": [
    {
     "name": "stdout",
     "output_type": "stream",
     "text": [
      "tensor([[1, 2],\n",
      "        [3, 4]])\n"
     ]
    }
   ],
   "source": [
    "data = [[1, 2], [3, 4]]\n",
    "x_data = torch.tensor(data)\n",
    "print(x_data)"
   ]
  },
  {
   "cell_type": "code",
   "execution_count": 69,
   "metadata": {},
   "outputs": [
    {
     "name": "stdout",
     "output_type": "stream",
     "text": [
      "tensor([[1, 1],\n",
      "        [1, 1]])\n"
     ]
    }
   ],
   "source": [
    "x_ones = torch.ones_like(x_data)\n",
    "print(x_ones)"
   ]
  },
  {
   "cell_type": "code",
   "execution_count": 70,
   "metadata": {},
   "outputs": [
    {
     "name": "stdout",
     "output_type": "stream",
     "text": [
      "tensor([[1., 1.],\n",
      "        [1., 1.]])\n",
      "tensor([[1, 1],\n",
      "        [1, 1]])\n"
     ]
    }
   ],
   "source": [
    "x_ones_float = torch.ones_like(x_data, dtype=torch.float)\n",
    "print(x_ones_float)\n",
    "\n",
    "x_ones_int = torch.ones_like(x_data, dtype=torch.int64)\n",
    "print(x_ones_int)"
   ]
  },
  {
   "cell_type": "code",
   "execution_count": 71,
   "metadata": {},
   "outputs": [
    {
     "name": "stdout",
     "output_type": "stream",
     "text": [
      "tensor([[0.4821, 0.2303],\n",
      "        [0.4497, 0.3410]])\n"
     ]
    }
   ],
   "source": [
    "x_rand = torch.rand_like(x_data, dtype=torch.float)\n",
    "print(x_rand)"
   ]
  },
  {
   "cell_type": "code",
   "execution_count": 72,
   "metadata": {},
   "outputs": [
    {
     "name": "stdout",
     "output_type": "stream",
     "text": [
      "Random Tensor: \n",
      " tensor([[0.0578, 0.0446, 0.2656],\n",
      "        [0.9443, 0.4473, 0.5205]]) \n",
      "\n",
      "Ones Tensor: \n",
      " tensor([[1., 1., 1.],\n",
      "        [1., 1., 1.]]) \n",
      "\n",
      "Zeros Tensor: \n",
      " tensor([[0., 0., 0.],\n",
      "        [0., 0., 0.]])\n"
     ]
    }
   ],
   "source": [
    "shape = (2, 3,)\n",
    "rand_tensor = torch.rand(shape)\n",
    "ones_tensor = torch.ones(shape)\n",
    "zeros_tensor = torch.zeros(shape)\n",
    "\n",
    "print(f\"Random Tensor: \\n {rand_tensor} \\n\")\n",
    "print(f\"Ones Tensor: \\n {ones_tensor} \\n\")\n",
    "print(f\"Zeros Tensor: \\n {zeros_tensor}\")"
   ]
  },
  {
   "cell_type": "code",
   "execution_count": 73,
   "metadata": {},
   "outputs": [
    {
     "name": "stdout",
     "output_type": "stream",
     "text": [
      "Shape of tensor: torch.Size([3, 4])\n",
      "Datatype of tensor: torch.float32\n",
      "Device tensor is stored on: cpu\n",
      "\n"
     ]
    }
   ],
   "source": [
    "tensor = torch.rand(3, 4)\n",
    "\n",
    "print(f\"Shape of tensor: {tensor.shape}\")\n",
    "print(f\"Datatype of tensor: {tensor.dtype}\")\n",
    "print(f\"Device tensor is stored on: {tensor.device}\\n\")"
   ]
  },
  {
   "cell_type": "code",
   "execution_count": 74,
   "metadata": {},
   "outputs": [
    {
     "name": "stdout",
     "output_type": "stream",
     "text": [
      "First row: tensor([0.7097, 0.6438, 0.1368, 0.2223])\n",
      "First column: tensor([0.7097, 0.5368, 0.1720, 0.6970])\n",
      "Last column: tensor([0.2223, 0.6522, 0.2337, 0.9525])\n",
      "Second last and last column:\n",
      " tensor([[0.1368, 0.2223],\n",
      "        [0.0640, 0.6522],\n",
      "        [0.8648, 0.2337],\n",
      "        [0.8646, 0.9525]])\n",
      "tensor([[0.7097, 0.0000, 0.1368, 0.2223],\n",
      "        [0.5368, 0.0000, 0.0640, 0.6522],\n",
      "        [0.1720, 0.0000, 0.8648, 0.2337],\n",
      "        [0.6970, 0.0000, 0.8646, 0.9525]])\n"
     ]
    }
   ],
   "source": [
    "tensor = torch.rand(4, 4)\n",
    "print(f\"First row: {tensor[0]}\")\n",
    "print(f\"First column: {tensor[:, 0]}\")\n",
    "print(f\"Last column: {tensor[:, -1]}\")\n",
    "print(f\"Second last and last column:\\n {tensor[:, -2:]}\")\n",
    "tensor[:, 1] = 0\n",
    "print(tensor)"
   ]
  },
  {
   "cell_type": "code",
   "execution_count": 75,
   "metadata": {},
   "outputs": [
    {
     "name": "stdout",
     "output_type": "stream",
     "text": [
      "tensor([[0.7097, 0.0000, 0.1368, 0.2223, 0.7097, 0.0000, 0.1368, 0.2223, 0.7097,\n",
      "         0.0000, 0.1368, 0.2223],\n",
      "        [0.5368, 0.0000, 0.0640, 0.6522, 0.5368, 0.0000, 0.0640, 0.6522, 0.5368,\n",
      "         0.0000, 0.0640, 0.6522],\n",
      "        [0.1720, 0.0000, 0.8648, 0.2337, 0.1720, 0.0000, 0.8648, 0.2337, 0.1720,\n",
      "         0.0000, 0.8648, 0.2337],\n",
      "        [0.6970, 0.0000, 0.8646, 0.9525, 0.6970, 0.0000, 0.8646, 0.9525, 0.6970,\n",
      "         0.0000, 0.8646, 0.9525]])\n"
     ]
    }
   ],
   "source": [
    "t1 = torch.cat([tensor, tensor, tensor], dim=1)\n",
    "print(t1)"
   ]
  },
  {
   "cell_type": "code",
   "execution_count": 76,
   "metadata": {},
   "outputs": [],
   "source": [
    "# This computes the matrix multiplication between two tensors. y1, y2, y3 will\n",
    "# have the same value\n",
    "# ``tensor.T`` returns the transpose of a tensor\n",
    "y1 = tensor @ tensor.T\n",
    "y2 = tensor.matmul(tensor.T)"
   ]
  },
  {
   "cell_type": "code",
   "execution_count": 77,
   "metadata": {},
   "outputs": [
    {
     "name": "stdout",
     "output_type": "stream",
     "text": [
      "y1: tensor([[0.5718, 0.5347, 0.2923, 0.8246],\n",
      "        [0.5347, 0.7176, 0.3001, 1.0506],\n",
      "        [0.2923, 0.3001, 0.8321, 1.0902],\n",
      "        [0.8246, 1.0506, 1.0902, 2.1405]])\n",
      "y2: tensor([[0.5718, 0.5347, 0.2923, 0.8246],\n",
      "        [0.5347, 0.7176, 0.3001, 1.0506],\n",
      "        [0.2923, 0.3001, 0.8321, 1.0902],\n",
      "        [0.8246, 1.0506, 1.0902, 2.1405]])\n",
      "y3: tensor([[0.5718, 0.5347, 0.2923, 0.8246],\n",
      "        [0.5347, 0.7176, 0.3001, 1.0506],\n",
      "        [0.2923, 0.3001, 0.8321, 1.0902],\n",
      "        [0.8246, 1.0506, 1.0902, 2.1405]])\n"
     ]
    }
   ],
   "source": [
    "y3 = torch.rand_like(y1)\n",
    "torch.matmul(tensor, tensor.T, out=y3)\n",
    "\n",
    "print(f'y1: {y1}')\n",
    "print(f'y2: {y2}')\n",
    "print(f'y3: {y3}')"
   ]
  },
  {
   "cell_type": "code",
   "execution_count": 78,
   "metadata": {},
   "outputs": [],
   "source": [
    "# This computes the element-wise product. z1, z2, z3 will have the same value\n",
    "z1 = tensor * tensor\n",
    "z2 = tensor.mul(tensor)"
   ]
  },
  {
   "cell_type": "code",
   "execution_count": 79,
   "metadata": {},
   "outputs": [
    {
     "name": "stdout",
     "output_type": "stream",
     "text": [
      "z1: tensor([[0.5036, 0.0000, 0.0187, 0.0494],\n",
      "        [0.2881, 0.0000, 0.0041, 0.4254],\n",
      "        [0.0296, 0.0000, 0.7479, 0.0546],\n",
      "        [0.4858, 0.0000, 0.7475, 0.9072]])\n",
      "z2: tensor([[0.5036, 0.0000, 0.0187, 0.0494],\n",
      "        [0.2881, 0.0000, 0.0041, 0.4254],\n",
      "        [0.0296, 0.0000, 0.7479, 0.0546],\n",
      "        [0.4858, 0.0000, 0.7475, 0.9072]])\n",
      "z3: tensor([[0.5036, 0.0000, 0.0187, 0.0494],\n",
      "        [0.2881, 0.0000, 0.0041, 0.4254],\n",
      "        [0.0296, 0.0000, 0.7479, 0.0546],\n",
      "        [0.4858, 0.0000, 0.7475, 0.9072]])\n"
     ]
    }
   ],
   "source": [
    "z3 = torch.rand_like(tensor)\n",
    "torch.mul(tensor, tensor, out=z3)\n",
    "\n",
    "print(f'z1: {z1}')\n",
    "print(f'z2: {z2}')\n",
    "print(f'z3: {z3}')"
   ]
  },
  {
   "cell_type": "code",
   "execution_count": 80,
   "metadata": {},
   "outputs": [
    {
     "name": "stdout",
     "output_type": "stream",
     "text": [
      "6.106230735778809 <class 'float'>\n"
     ]
    }
   ],
   "source": [
    "agg = tensor.sum()\n",
    "agg_item = agg.item()\n",
    "print(agg_item, type(agg_item))"
   ]
  },
  {
   "cell_type": "code",
   "execution_count": 81,
   "metadata": {},
   "outputs": [
    {
     "name": "stdout",
     "output_type": "stream",
     "text": [
      "tensor (before): \n",
      "tensor([[0.7097, 0.0000, 0.1368, 0.2223],\n",
      "        [0.5368, 0.0000, 0.0640, 0.6522],\n",
      "        [0.1720, 0.0000, 0.8648, 0.2337],\n",
      "        [0.6970, 0.0000, 0.8646, 0.9525]]) \n",
      "\n",
      "tensor (after): \n",
      "tensor([[5.7097, 5.0000, 5.1368, 5.2223],\n",
      "        [5.5368, 5.0000, 5.0640, 5.6522],\n",
      "        [5.1720, 5.0000, 5.8648, 5.2337],\n",
      "        [5.6970, 5.0000, 5.8646, 5.9525]]) \n",
      "\n",
      "t: tensor([1., 1., 1., 1., 1.])\n",
      "n: [1. 1. 1. 1. 1.]\n",
      "t: tensor([2., 2., 2., 2., 2.])\n",
      "n: [2. 2. 2. 2. 2.]\n",
      "n: [1. 1. 1. 1. 1.]\n",
      "t: tensor([1., 1., 1., 1., 1.], dtype=torch.float64)\n",
      "n: [2. 2. 2. 2. 2.]\n",
      "t: tensor([2., 2., 2., 2., 2.], dtype=torch.float64)\n"
     ]
    }
   ],
   "source": [
    "print(f\"tensor (before): \\n{tensor} \\n\")\n",
    "tensor.add_(5)\n",
    "print(f\"tensor (after): \\n{tensor} \\n\")\n",
    "\n",
    "t = torch.ones(5)\n",
    "print(f\"t: {t}\")\n",
    "n = t.numpy()\n",
    "print(f\"n: {n}\")\n",
    "\n",
    "t.add_(1)\n",
    "print(f\"t: {t}\")\n",
    "print(f\"n: {n}\")\n",
    "\n",
    "\n",
    "n = np.ones(5)\n",
    "print(f\"n: {n}\")\n",
    "t = torch.from_numpy(n)\n",
    "print(f\"t: {t}\")\n",
    "\n",
    "np.add(n, 1, out=n)\n",
    "print(f\"n: {n}\")\n",
    "print(f\"t: {t}\")"
   ]
  }
 ],
 "metadata": {
  "kernelspec": {
   "display_name": "Python 3 (ipykernel)",
   "language": "python",
   "name": "python3"
  },
  "language_info": {
   "codemirror_mode": {
    "name": "ipython",
    "version": 3
   },
   "file_extension": ".py",
   "mimetype": "text/x-python",
   "name": "python",
   "nbconvert_exporter": "python",
   "pygments_lexer": "ipython3",
   "version": "3.12.2"
  }
 },
 "nbformat": 4,
 "nbformat_minor": 2
}
